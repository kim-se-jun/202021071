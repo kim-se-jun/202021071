{
  "nbformat": 4,
  "nbformat_minor": 0,
  "metadata": {
    "colab": {
      "provenance": [],
      "authorship_tag": "ABX9TyNsBcTg7SJ49LoW0AVtzBqT",
      "include_colab_link": true
    },
    "kernelspec": {
      "name": "python3",
      "display_name": "Python 3"
    },
    "language_info": {
      "name": "python"
    }
  },
  "cells": [
    {
      "cell_type": "markdown",
      "metadata": {
        "id": "view-in-github",
        "colab_type": "text"
      },
      "source": [
        "<a href=\"https://colab.research.google.com/github/kim-se-jun/202021071/blob/main/%EC%A0%9C%EC%96%B4%EA%B3%B5%ED%95%99_%EA%B8%B0%EB%A7%90%EA%B3%A0%EC%82%AC.ipynb\" target=\"_parent\"><img src=\"https://colab.research.google.com/assets/colab-badge.svg\" alt=\"Open In Colab\"/></a>"
      ]
    },
    {
      "cell_type": "code",
      "execution_count": 1,
      "metadata": {
        "colab": {
          "base_uri": "https://localhost:8080/",
          "height": 137
        },
        "id": "33MTIWWnfKZL",
        "outputId": "a6d8e492-2972-4a25-e5cd-d7662f10d4e1"
      },
      "outputs": [
        {
          "output_type": "error",
          "ename": "SyntaxError",
          "evalue": "ignored",
          "traceback": [
            "\u001b[0;36m  File \u001b[0;32m\"<ipython-input-1-f14a8a4ca566>\"\u001b[0;36m, line \u001b[0;32m6\u001b[0m\n\u001b[0;31m    전달함수 G(s) 정의\u001b[0m\n\u001b[0m         ^\u001b[0m\n\u001b[0;31mSyntaxError\u001b[0m\u001b[0;31m:\u001b[0m invalid syntax\n"
          ]
        }
      ],
      "source": [
        "import streamlit as st\n",
        "import numpy as np\n",
        "import matplotlib.pyplot as plt\n",
        "import control\n",
        "\n",
        "전달함수 G(s) 정의\n",
        "num = [100] # 분자 계수\n",
        "den = [1, 5, 6] # 분모 계수: s^2 + 5s + 6\n",
        "G = control.TransferFunction(num, den)\n",
        "\n",
        "폐루프 전달함수 T(s) 계산\n",
        "H = 1  # 피드백 루프의 전달함수 (1이면 피드백이 없는 상태)\n",
        "T = control.series(G, H)\n",
        "T = control.minreal(T)  # 최소 실수화\n",
        "\n",
        "출력 값 출력\n",
        "st.write('전달함수:')\n",
        "st.latex(r\"\\frac{100}{{(s+2)(s+3)+100}}\")\n",
        "\n",
        "시간 벡터 생성\n",
        "t = np.linspace(0, 10, 1000)\n",
        "\n",
        "Unit step 입력 생성\n",
        "u = np.ones_like(t)\n",
        "\n",
        "시스템 응답 계산\n",
        "t, y = control.step_response(T, T=t, input=u)\n",
        "\n",
        "응답곡선 그리기\n",
        "fig1, ax1 = plt.subplots()\n",
        "ax1.plot(t, y)\n",
        "ax1.set_xlabel('Time')\n",
        "ax1.set_ylabel('Output')\n",
        "ax1.set_title('Step Response')\n",
        "ax1.grid(True)\n",
        "\n",
        "주파수 응답 계산\n",
        "omega, mag, phase = control.bode(T)\n",
        "\n",
        "보드선도 그리기\n",
        "fig2, (ax2, ax3) = plt.subplots(2, 1)\n",
        "ax2.semilogx(omega, mag)  # 주파수 응답의 크기\n",
        "ax2.set_xlabel('Frequency')\n",
        "ax2.set_ylabel('Magnitude (dB)')\n",
        "ax2.set_title('Bode Plot - Magnitude')\n",
        "ax2.grid(True)\n",
        "\n",
        "ax3.semilogx(omega, phase)  # 주파수 응답의 위상\n",
        "ax3.set_xlabel('Frequency')\n",
        "ax3.set_ylabel('Phase (degrees)')\n",
        "ax3.set_title('Bode Plot - Phase')\n",
        "ax3.grid(True)\n",
        "\n",
        "그래프를 Streamlit 앱에 출력\n",
        "st.write('Step Response:')\n",
        "st.pyplot(fig1)\n",
        "\n",
        "st.write('Bode Plot:')\n",
        "st.pyplot(fig2)\n",
        "\n",
        "시스템 응답 계산\n",
        "t, y = control.step_response(T, T=t, input=u)\n",
        "\n",
        "응답곡선 그리기\n",
        "fig1, ax1 = plt.subplots()\n",
        "ax1.plot(t, y)\n",
        "ax1.set_xlabel('Time')\n",
        "ax1.set_ylabel('Output')\n",
        "ax1.set_title('Step Response')\n",
        "ax1.grid(True)\n",
        "\n",
        "그래프를 Streamlit 앱에 출력\n",
        "st.write('Step Response:')\n",
        "st.pyplot(fig1)"
      ]
    }
  ]
}